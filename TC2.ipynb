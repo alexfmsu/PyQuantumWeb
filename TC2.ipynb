{
 "cells": [
  {
   "cell_type": "code",
   "execution_count": 67,
   "metadata": {},
   "outputs": [],
   "source": [
    "# system\n",
    "import sys"
   ]
  },
  {
   "cell_type": "code",
   "execution_count": 68,
   "metadata": {},
   "outputs": [],
   "source": [
    "# TC\n",
    "from PyQuantum.TC.Cavity import Cavity\n",
    "from PyQuantum.TC.Hamiltonian import Hamiltonian\n",
    "\n",
    "from PyQuantum.TC.WaveFunction import WaveFunction\n",
    "from PyQuantum.TC.DensityMatrix import *\n",
    "\n",
    "from PyQuantum.TC.Evolution import *"
   ]
  },
  {
   "cell_type": "code",
   "execution_count": 69,
   "metadata": {},
   "outputs": [],
   "source": [
    "# Common\n",
    "from PyQuantum.Common.LoadPackage import *\n",
    "from PyQuantum.Common.STR import *\n",
    "\n",
    "from PyQuantum.Common.ext import mkdir\n",
    "from PyQuantum.Common.Print import *\n",
    "from PyQuantum.Common.PyPlot import PyPlot3D\n",
    "# from shutil import copyfile\n",
    "# from numpy.random import rand"
   ]
  },
  {
   "cell_type": "code",
   "execution_count": 70,
   "metadata": {},
   "outputs": [],
   "source": [
    "config = load_pkg(\"config\", \"/home/alexfmsu/Git/PyQuantum/PyQuantum/TC/config.py\")\n",
    "\n",
    "mkdir(config.path)"
   ]
  },
  {
   "cell_type": "code",
   "execution_count": 71,
   "metadata": {},
   "outputs": [
    {
     "name": "stdout",
     "output_type": "stream",
     "text": [
      "\u001b[1;36;1mCavity:\u001b[1;32;0m\n",
      "\u001b[1;33;1m n: \u001b[1;32;0m2\n",
      "\n",
      "\u001b[1;33;1mwc: \u001b[1;32;0m21.506 GHz\n",
      "\n",
      "\u001b[1;33;1mwa: \u001b[1;32;0m21.506 GHz\n",
      "\n",
      "\u001b[1;33;1m g: \u001b[1;32;0m215.06 MHz\n",
      "\n",
      "T: 5e-08\n",
      "nt: 25\n",
      "dt: 1.9999999999999997e-09\n",
      "\n"
     ]
    }
   ],
   "source": [
    "cavity = Cavity(n=config.n, wc=config.wc, wa=config.wa, g=config.g)\n",
    "\n",
    "print(\"Cavity:\", color=\"green\")\n",
    "\n",
    "print()\n",
    "\n",
    "cavity.print_n()\n",
    "cavity.print_wc()\n",
    "cavity.print_wa()\n",
    "cavity.print_g()\n",
    "\n",
    "print(\"T:\", config.T)\n",
    "print(\"nt:\", config.nt)\n",
    "print(\"dt:\", config.dt)\n",
    "\n",
    "print()"
   ]
  },
  {
   "cell_type": "code",
   "execution_count": 72,
   "metadata": {},
   "outputs": [
    {
     "name": "stdout",
     "output_type": "stream",
     "text": [
      "\u001b[1;36;1mStates:\u001b[1;32;0m\n",
      "[0, [0, 0]]\n",
      "[0, [0, 1]]\n",
      "[0, [1, 0]]\n",
      "[0, [1, 1]]\n",
      "[1, [0, 0]]\n",
      "[1, [0, 1]]\n",
      "[1, [1, 0]]\n",
      "[1, [1, 1]]\n",
      "[2, [0, 0]]\n",
      "[2, [0, 1]]\n",
      "[2, [1, 0]]\n",
      "[2, [1, 1]]\n",
      "\n"
     ]
    }
   ],
   "source": [
    "H = Hamiltonian(capacity=config.capacity, cavity=cavity)\n",
    "\n",
    "H.print_states()"
   ]
  },
  {
   "cell_type": "code",
   "execution_count": 73,
   "metadata": {},
   "outputs": [
    {
     "name": "stdout",
     "output_type": "stream",
     "text": [
      "[0, [0, 0]]\n",
      "[0, [1, 1]]\n",
      "[0, [0, 0]] (0.7071067811865475+0j)\n",
      "[0, [0, 1]] 0j\n",
      "[0, [1, 0]] 0j\n",
      "[0, [1, 1]] (-0.7071067811865475+0j)\n",
      "[1, [0, 0]] 0j\n",
      "[1, [0, 1]] 0j\n",
      "[1, [1, 0]] 0j\n",
      "[1, [1, 1]] 0j\n",
      "[2, [0, 0]] 0j\n",
      "[2, [0, 1]] 0j\n",
      "[2, [1, 0]] 0j\n",
      "[2, [1, 1]] 0j\n"
     ]
    }
   ],
   "source": [
    "print(config.init_state)\n",
    "print(config.init_state2)\n",
    "\n",
    "w_0 = WaveFunction(states=H.states, init_state=config.init_state) - \\\n",
    "     WaveFunction(states=H.states, init_state=config.init_state2)\n",
    "w_0.normalize()\n",
    "w_0.print()"
   ]
  },
  {
   "cell_type": "code",
   "execution_count": 74,
   "metadata": {},
   "outputs": [],
   "source": [
    "run_w(w_0, H, dt=config.dt, nt=config.nt, config=config, fidelity_mode=False)"
   ]
  },
  {
   "cell_type": "code",
   "execution_count": 110,
   "metadata": {},
   "outputs": [
    {
     "data": {
      "text/html": [
       "<script type=\"text/javascript\">window.PlotlyConfig = {MathJaxConfig: 'local'};</script><script type=\"text/javascript\">if (window.MathJax) {MathJax.Hub.Config({SVG: {font: \"STIX-Web\"}});}</script><script>requirejs.config({paths: { 'plotly': ['https://cdn.plot.ly/plotly-latest.min']},});if(!window._Plotly) {require(['plotly'],function(plotly) {window._Plotly=plotly;});}</script>"
      ],
      "text/vnd.plotly.v1+html": [
       "<script type=\"text/javascript\">window.PlotlyConfig = {MathJaxConfig: 'local'};</script><script type=\"text/javascript\">if (window.MathJax) {MathJax.Hub.Config({SVG: {font: \"STIX-Web\"}});}</script><script>requirejs.config({paths: { 'plotly': ['https://cdn.plot.ly/plotly-latest.min']},});if(!window._Plotly) {require(['plotly'],function(plotly) {window._Plotly=plotly;});}</script>"
      ]
     },
     "metadata": {},
     "output_type": "display_data"
    }
   ],
   "source": [
    "import plotly.graph_objs as go\n",
    "import plotly.plotly as py\n",
    "import numpy as np\n",
    "import pandas as pd\n",
    "\n",
    "import math\n",
    "import csv\n",
    "\n",
    "# BEGIN--------------------------------------------------- PLOTLY -----------------------------------------------------\n",
    "import plotly\n",
    "\n",
    "# plotly.tools.set_credentials_file(username=\"alexfmsu\", api_key=\"g8ocp0PgQCY1a2WqBpyr\")\n",
    "plotly.tools.set_credentials_file(\n",
    "    username=\"alexf-msu\", api_key=\"VSOCzkhAhdKQDuV7eiYq\")\n",
    "\n",
    "# END----------------------------------------------------- PLOTLY -----------------------------------------------------\n",
    "from plotly.offline import init_notebook_mode, iplot\n",
    "init_notebook_mode(connected=True)\n",
    "\n",
    "class PlotBuilder:\n",
    "    def __init_(self):\n",
    "        pass\n",
    "    \n",
    "    def set_title(self, title):\n",
    "        self.title = title\n",
    "        \n",
    "    def set_width(self, width):\n",
    "        self.width = width\n",
    "    \n",
    "    def set_height(self, height):\n",
    "        self.height = height\n",
    "        \n",
    "    def set_size(self, width, height):\n",
    "        self.set_width(width)\n",
    "        self.set_height(height)\n",
    "        \n",
    "    def set_xticks(self, xticks):\n",
    "        self.xticks = xticks\n",
    "    \n",
    "    def set_xaxis(self, xaxis):\n",
    "        self.xaxis = xaxis\n",
    "\n",
    "    def set_yaxis(self, yaxis):\n",
    "        self.yaxis = yaxis\n",
    "    \n",
    "    def set_zrange(self, zrange):\n",
    "        self.zrange = zrange\n",
    "    \n",
    "    def set_yscale(self, yscale):\n",
    "        self.yscale = yscale\n",
    "\n",
    "    def plot(self, z_csv, x_csv, y_csv, t_coeff=1, online=True, path=\".\", filename=\"wt2\", to_file=\"\"):\n",
    "        print(\"Making plot...\")\n",
    "        # Z----------------------------------------------\n",
    "        z_data = pd.read_csv(z_csv, header=None)\n",
    "        # Z----------------------------------------------\n",
    "\n",
    "        # X----------------------------------------------\n",
    "        x = pd.read_csv(x_csv, keep_default_na=False)\n",
    "\n",
    "        x.replace(r'\\[(.+)\\]', r'{\\1≻', regex=True, inplace=True)\n",
    "\n",
    "\n",
    "        x_header = list(x)[0]\n",
    "        x_ticktext = list(x['x'])\n",
    "        x_tickvals = list(x['vals'])\n",
    "\n",
    "        for i in range(len(x_ticktext)):\n",
    "            x_ticktext[i] = x_ticktext[i]\n",
    "            x_ticktext[i] = str(x_ticktext[i])\n",
    "\n",
    "        print('x_ticktext:', x_ticktext)\n",
    "        print('x_tickvals:', x_tickvals)\n",
    "        # X----------------------------------------------\n",
    "\n",
    "        # Y----------------------------------------------\n",
    "        y = pd.read_csv(y_csv, keep_default_na=False)\n",
    "        y_header = list(y)[0]\n",
    "\n",
    "        y_ticktext = list(y[\"y\"])\n",
    "        y_tickvals = list(y[\"vals\"])\n",
    "        y_tickvals = np.array(y_tickvals) / t_coeff\n",
    "        print('y_ticktext:', y_ticktext)\n",
    "        print('y_tickvals:', y_tickvals)\n",
    "        # Y----------------------------------------------\n",
    "\n",
    "        data = [\n",
    "            go.Surface(\n",
    "                showlegend=False,\n",
    "                showscale=False,\n",
    "                lighting=dict(diffuse=0.5, specular=.2, fresnel=0.2),\n",
    "                z=z_data.values,\n",
    "                colorscale=\"Portland\",\n",
    "            )\n",
    "        ]\n",
    "\n",
    "        scale = int(y_ticktext[-1])\n",
    "\n",
    "        layout = go.Layout(\n",
    "            title=self.title,\n",
    "            titlefont=dict(\n",
    "                family='Lato',\n",
    "\n",
    "                size=20,\n",
    "                color=\"#222\"),\n",
    "            margin=go.Margin(\n",
    "                l=0,\n",
    "                r=0,\n",
    "                b=0,\n",
    "                t=35,\n",
    "                pad=50,\n",
    "            ),\n",
    "            xaxis=dict(\n",
    "                ticks='outside',\n",
    "                tickfont=dict(\n",
    "                    size=200,\n",
    "                ),\n",
    "            ),\n",
    "\n",
    "            yaxis=dict(\n",
    "                # tickangle=45,\n",
    "\n",
    "                title=\"y Axis\",\n",
    "                titlefont=dict(\n",
    "                    family=\"Courier New, monospace\",\n",
    "                    # family='Old Standard TT, serif',\n",
    "                    size=40,\n",
    "                    # size=14,\n",
    "                    color=\"#FFFFFF\"),\n",
    "                # autotick=False,\n",
    "                # dtick=1,\n",
    "                ticks='outside',\n",
    "                tickfont=dict(\n",
    "                    size=200,\n",
    "                ),\n",
    "            ),\n",
    "\n",
    "\n",
    "            autosize=False,\n",
    "#             width=1200,\n",
    "    #         height=650,\n",
    "            plot_bgcolor=\"#AAA\",\n",
    "\n",
    "            scene=go.Scene(\n",
    "                camera=dict(\n",
    "                    up=dict(x=0, y=0, z=1),\n",
    "                    center=dict(x=0, y=0, z=0.2),\n",
    "                    eye=dict(x=3.75, y=3.75, z=3.75)\n",
    "                ),\n",
    "                aspectratio={\"x\": 1, \"y\": self.yscale * y_ticktext[-1], \"z\": 1},\n",
    "                xaxis={\n",
    "                    \"title\": self.xaxis,\n",
    "                    \"showgrid\": False,\n",
    "                    \"showline\": False,\n",
    "                    \"tickvals\": x_tickvals,\n",
    "                    \"ticktext\": x_ticktext,\n",
    "                    'titlefont': dict(\n",
    "                        size=18,\n",
    "                    ),\n",
    "                    'tickfont': dict(\n",
    "                        size=14,\n",
    "                    ),\n",
    "                    'autorange': True,\n",
    "                },\n",
    "                yaxis={\n",
    "                    'autorange': True,\n",
    "\n",
    "                    \"title\": self.yaxis+\"\\t\\t\\t\\t.\",\n",
    "                    \"ticktext\": y_ticktext[::2],\n",
    "                    \"tickvals\": y_tickvals[::2],\n",
    "                    # \"linecolor\": \"black\",\n",
    "                    \"linewidth\": 1,\n",
    "                    'titlefont': dict(\n",
    "                        size=18,\n",
    "                    ),\n",
    "                    'tickfont': dict(\n",
    "                        size=14,\n",
    "                    ),\n",
    "\n",
    "                },\n",
    "                zaxis={\n",
    "                    'autorange': False,\n",
    "                    \"range\": self.zrange,\n",
    "                    \"title\": \"prob.\\t\\t\\t\\t\\t\\t.\",\n",
    "                    \"linewidth\": 1,\n",
    "                    'titlefont': dict(\n",
    "                        size=18,\n",
    "                    ),\n",
    "                    'tickfont': dict(\n",
    "                        size=14,\n",
    "                    )\n",
    "                },\n",
    "            ),\n",
    "\n",
    "            showlegend=False\n",
    "        )\n",
    "\n",
    "        fig = go.Figure(data=data, layout=layout)\n",
    "\n",
    "        iplot(fig, filename=filename)\n",
    "\n",
    "        return\n",
    "# ---------------------------------------------------------------------------------------------------------------------\n"
   ]
  },
  {
   "cell_type": "code",
   "execution_count": 111,
   "metadata": {},
   "outputs": [
    {
     "name": "stdout",
     "output_type": "stream",
     "text": [
      "Making plot...\n",
      "x_ticktext: ['', '', '', '', '', '', '', '', '', '', '', '']\n",
      "x_tickvals: [0, 1, 2, 3, 4, 5, 6, 7, 8, 9, 10, 11]\n",
      "y_ticktext: [0.0, 5.0, 10.0, 15.0, 20.0, 25.0, 30.0, 35.0, 40.0, 45.0, 50.0]\n",
      "y_tickvals: [ 0.   2.5  5.   7.5 10.  12.5 15.  17.5 20.  22.5 25. ]\n"
     ]
    },
    {
     "data": {
      "application/vnd.plotly.v1+json": {
       "config": {
        "linkText": "Export to plot.ly",
        "plotlyServerURL": "https://plot.ly",
        "showLink": true
       },
       "data": [
        {
         "colorscale": "Portland",
         "lighting": {
          "diffuse": 0.5,
          "fresnel": 0.2,
          "specular": 0.2
         },
         "showlegend": false,
         "showscale": false,
         "type": "surface",
         "uid": "45cee2e1-f1c8-4a60-8b6c-53169ef82147",
         "z": [
          [
           0.5,
           0,
           0,
           0.5,
           0,
           0,
           0,
           0,
           0,
           0,
           0,
           0
          ],
          [
           0.5,
           0,
           0,
           0.34569,
           0,
           0.06296,
           0.06296,
           0,
           0.0284,
           0,
           0,
           0
          ],
          [
           0.5,
           0,
           0,
           0.12317,
           0,
           0.06157000000000001,
           0.06157000000000001,
           0,
           0.25368,
           0,
           0,
           0
          ],
          [
           0.5,
           0,
           0,
           0.05558,
           0,
           2.9999999999999997e-05,
           2.9999999999999997e-05,
           0,
           0.44436000000000003,
           0,
           0,
           0
          ],
          [
           0.5,
           0,
           0,
           0.12874000000000002,
           0,
           0.06431,
           0.06431,
           0,
           0.24264000000000002,
           0,
           0,
           0
          ],
          [
           0.5,
           0,
           0,
           0.35486,
           0,
           0.060160000000000005,
           0.060160000000000005,
           0,
           0.02482,
           0,
           0,
           0
          ],
          [
           0.5,
           0,
           0,
           0.49976000000000004,
           0,
           0.00011999999999999999,
           0.00011999999999999999,
           0,
           0,
           0,
           0,
           0
          ],
          [
           0.5,
           0,
           0,
           0.33643,
           0,
           0.06563,
           0.06563,
           0,
           0.0323,
           0,
           0,
           0
          ],
          [
           0.5,
           0,
           0,
           0.11785,
           0,
           0.05872,
           0.05872,
           0,
           0.26471,
           0,
           0,
           0
          ],
          [
           0.5,
           0,
           0,
           0.05574,
           0,
           0.00027,
           0.00027,
           0,
           0.44371000000000005,
           0,
           0,
           0
          ],
          [
           0.5,
           0,
           0,
           0.13454000000000002,
           0,
           0.06692000000000001,
           0.06692000000000001,
           0,
           0.23162,
           0,
           0,
           0
          ],
          [
           0.5,
           0,
           0,
           0.36394,
           0,
           0.05725,
           0.05725,
           0,
           0.02156,
           0,
           0,
           0
          ],
          [
           0.5,
           0,
           0,
           0.49901999999999996,
           0,
           0.00049,
           0.00049,
           0,
           0,
           0,
           0,
           0
          ],
          [
           0.5,
           0,
           0,
           0.32711999999999997,
           0,
           0.06817000000000001,
           0.06817000000000001,
           0,
           0.036539999999999996,
           0,
           0,
           0
          ],
          [
           0.5,
           0,
           0,
           0.11277999999999999,
           0,
           0.055760000000000004,
           0.055760000000000004,
           0,
           0.2757,
           0,
           0,
           0
          ],
          [
           0.5,
           0,
           0,
           0.056060000000000006,
           0,
           0.0007599999999999999,
           0.0007599999999999999,
           0,
           0.44242,
           0,
           0,
           0
          ],
          [
           0.5,
           0,
           0,
           0.14059000000000002,
           0,
           0.06938,
           0.06938,
           0,
           0.22065,
           0,
           0,
           0
          ],
          [
           0.5,
           0,
           0,
           0.37289,
           0,
           0.05425,
           0.05425,
           0,
           0.018609999999999998,
           0,
           0,
           0
          ],
          [
           0.5,
           0,
           0,
           0.49781000000000003,
           0,
           0.00109,
           0.00109,
           0,
           0,
           0,
           0,
           0
          ],
          [
           0.5,
           0,
           0,
           0.31778,
           0,
           0.07055,
           0.07055,
           0,
           0.04112,
           0,
           0,
           0
          ],
          [
           0.5,
           0,
           0,
           0.10794000000000001,
           0,
           0.05272,
           0.05272,
           0,
           0.28661,
           0,
           0,
           0
          ],
          [
           0.5,
           0,
           0,
           0.05655,
           0,
           0.00149,
           0.00149,
           0,
           0.44047,
           0,
           0,
           0
          ],
          [
           0.5,
           0,
           0,
           0.14687999999999998,
           0,
           0.07168,
           0.07168,
           0,
           0.20976,
           0,
           0,
           0
          ],
          [
           0.5,
           0,
           0,
           0.3817,
           0,
           0.05118,
           0.05118,
           0,
           0.01594,
           0,
           0,
           0
          ],
          [
           0.5,
           0,
           0,
           0.49611000000000005,
           0,
           0.0019399999999999999,
           0.0019399999999999999,
           0,
           2e-05,
           0,
           0,
           0
          ],
          [
           0.5,
           0,
           0,
           0.30841999999999997,
           0,
           0.07276,
           0.07276,
           0,
           0.046060000000000004,
           0,
           0,
           0
          ]
         ]
        }
       ],
       "layout": {
        "autosize": false,
        "margin": {
         "b": 0,
         "l": 0,
         "pad": 50,
         "r": 0,
         "t": 35
        },
        "plot_bgcolor": "#AAA",
        "scene": {
         "aspectratio": {
          "x": 1,
          "y": 5,
          "z": 1
         },
         "camera": {
          "center": {
           "x": 0,
           "y": 0,
           "z": 0.2
          },
          "eye": {
           "x": 3.75,
           "y": 3.75,
           "z": 3.75
          },
          "up": {
           "x": 0,
           "y": 0,
           "z": 1
          }
         },
         "xaxis": {
          "autorange": true,
          "showgrid": false,
          "showline": false,
          "tickfont": {
           "size": 14
          },
          "ticktext": [
           "",
           "",
           "",
           "",
           "",
           "",
           "",
           "",
           "",
           "",
           "",
           ""
          ],
          "tickvals": [
           0,
           1,
           2,
           3,
           4,
           5,
           6,
           7,
           8,
           9,
           10,
           11
          ],
          "title": "states",
          "titlefont": {
           "size": 18
          }
         },
         "yaxis": {
          "autorange": true,
          "linewidth": 1,
          "tickfont": {
           "size": 14
          },
          "ticktext": [
           0,
           10,
           20,
           30,
           40,
           50
          ],
          "tickvals": [
           0,
           5,
           10,
           15,
           20,
           25
          ],
          "title": "time,  ns\t\t\t\t.",
          "titlefont": {
           "size": 18
          }
         },
         "zaxis": {
          "autorange": false,
          "linewidth": 1,
          "range": [
           0,
           1
          ],
          "tickfont": {
           "size": 14
          },
          "title": "prob.\t\t\t\t\t\t.",
          "titlefont": {
           "size": 18
          }
         }
        },
        "showlegend": false,
        "title": "",
        "titlefont": {
         "color": "#222",
         "family": "Lato",
         "size": 20
        },
        "xaxis": {
         "tickfont": {
          "size": 200
         },
         "ticks": "outside"
        },
        "yaxis": {
         "tickfont": {
          "size": 200
         },
         "ticks": "outside",
         "title": "y Axis",
         "titlefont": {
          "color": "#FFFFFF",
          "family": "Courier New, monospace",
          "size": 40
         }
        }
       }
      },
      "text/html": [
       "<div id=\"d271bc14-846a-408c-8aa2-cf1083204e7d\" style=\"height: 525px; width: 100%;\" class=\"plotly-graph-div\"></div><script type=\"text/javascript\">require([\"plotly\"], function(Plotly) { window.PLOTLYENV=window.PLOTLYENV || {};window.PLOTLYENV.BASE_URL=\"https://plot.ly\";Plotly.newPlot(\"d271bc14-846a-408c-8aa2-cf1083204e7d\", [{\"colorscale\": \"Portland\", \"lighting\": {\"diffuse\": 0.5, \"fresnel\": 0.2, \"specular\": 0.2}, \"showlegend\": false, \"showscale\": false, \"z\": [[0.5, 0.0, 0.0, 0.5, 0.0, 0.0, 0.0, 0.0, 0.0, 0.0, 0.0, 0.0], [0.5, 0.0, 0.0, 0.34569, 0.0, 0.06296, 0.06296, 0.0, 0.0284, 0.0, 0.0, 0.0], [0.5, 0.0, 0.0, 0.12317, 0.0, 0.06157000000000001, 0.06157000000000001, 0.0, 0.25368, 0.0, 0.0, 0.0], [0.5, 0.0, 0.0, 0.05558, 0.0, 2.9999999999999997e-05, 2.9999999999999997e-05, 0.0, 0.44436000000000003, 0.0, 0.0, 0.0], [0.5, 0.0, 0.0, 0.12874000000000002, 0.0, 0.06431, 0.06431, 0.0, 0.24264000000000002, 0.0, 0.0, 0.0], [0.5, 0.0, 0.0, 0.35486, 0.0, 0.060160000000000005, 0.060160000000000005, 0.0, 0.02482, 0.0, 0.0, 0.0], [0.5, 0.0, 0.0, 0.49976000000000004, 0.0, 0.00011999999999999999, 0.00011999999999999999, 0.0, 0.0, 0.0, 0.0, 0.0], [0.5, 0.0, 0.0, 0.33643, 0.0, 0.06563, 0.06563, 0.0, 0.0323, 0.0, 0.0, 0.0], [0.5, 0.0, 0.0, 0.11785, 0.0, 0.05872, 0.05872, 0.0, 0.26471, 0.0, 0.0, 0.0], [0.5, 0.0, 0.0, 0.05574, 0.0, 0.00027, 0.00027, 0.0, 0.44371000000000005, 0.0, 0.0, 0.0], [0.5, 0.0, 0.0, 0.13454000000000002, 0.0, 0.06692000000000001, 0.06692000000000001, 0.0, 0.23162, 0.0, 0.0, 0.0], [0.5, 0.0, 0.0, 0.36394, 0.0, 0.05725, 0.05725, 0.0, 0.02156, 0.0, 0.0, 0.0], [0.5, 0.0, 0.0, 0.49901999999999996, 0.0, 0.00049, 0.00049, 0.0, 0.0, 0.0, 0.0, 0.0], [0.5, 0.0, 0.0, 0.32711999999999997, 0.0, 0.06817000000000001, 0.06817000000000001, 0.0, 0.036539999999999996, 0.0, 0.0, 0.0], [0.5, 0.0, 0.0, 0.11277999999999999, 0.0, 0.055760000000000004, 0.055760000000000004, 0.0, 0.2757, 0.0, 0.0, 0.0], [0.5, 0.0, 0.0, 0.056060000000000006, 0.0, 0.0007599999999999999, 0.0007599999999999999, 0.0, 0.44242, 0.0, 0.0, 0.0], [0.5, 0.0, 0.0, 0.14059000000000002, 0.0, 0.06938, 0.06938, 0.0, 0.22065, 0.0, 0.0, 0.0], [0.5, 0.0, 0.0, 0.37289, 0.0, 0.05425, 0.05425, 0.0, 0.018609999999999998, 0.0, 0.0, 0.0], [0.5, 0.0, 0.0, 0.49781000000000003, 0.0, 0.00109, 0.00109, 0.0, 0.0, 0.0, 0.0, 0.0], [0.5, 0.0, 0.0, 0.31778, 0.0, 0.07055, 0.07055, 0.0, 0.04112, 0.0, 0.0, 0.0], [0.5, 0.0, 0.0, 0.10794000000000001, 0.0, 0.05272, 0.05272, 0.0, 0.28661, 0.0, 0.0, 0.0], [0.5, 0.0, 0.0, 0.05655, 0.0, 0.00149, 0.00149, 0.0, 0.44047, 0.0, 0.0, 0.0], [0.5, 0.0, 0.0, 0.14687999999999998, 0.0, 0.07168, 0.07168, 0.0, 0.20976, 0.0, 0.0, 0.0], [0.5, 0.0, 0.0, 0.3817, 0.0, 0.05118, 0.05118, 0.0, 0.01594, 0.0, 0.0, 0.0], [0.5, 0.0, 0.0, 0.49611000000000005, 0.0, 0.0019399999999999999, 0.0019399999999999999, 0.0, 2e-05, 0.0, 0.0, 0.0], [0.5, 0.0, 0.0, 0.30841999999999997, 0.0, 0.07276, 0.07276, 0.0, 0.046060000000000004, 0.0, 0.0, 0.0]], \"type\": \"surface\", \"uid\": \"45cee2e1-f1c8-4a60-8b6c-53169ef82147\"}], {\"autosize\": false, \"margin\": {\"b\": 0, \"l\": 0, \"pad\": 50, \"r\": 0, \"t\": 35}, \"plot_bgcolor\": \"#AAA\", \"scene\": {\"aspectratio\": {\"x\": 1, \"y\": 5.0, \"z\": 1}, \"camera\": {\"center\": {\"x\": 0, \"y\": 0, \"z\": 0.2}, \"eye\": {\"x\": 3.75, \"y\": 3.75, \"z\": 3.75}, \"up\": {\"x\": 0, \"y\": 0, \"z\": 1}}, \"xaxis\": {\"autorange\": true, \"showgrid\": false, \"showline\": false, \"tickfont\": {\"size\": 14}, \"ticktext\": [\"\", \"\", \"\", \"\", \"\", \"\", \"\", \"\", \"\", \"\", \"\", \"\"], \"tickvals\": [0, 1, 2, 3, 4, 5, 6, 7, 8, 9, 10, 11], \"title\": \"states\", \"titlefont\": {\"size\": 18}}, \"yaxis\": {\"autorange\": true, \"linewidth\": 1, \"tickfont\": {\"size\": 14}, \"ticktext\": [0.0, 10.0, 20.0, 30.0, 40.0, 50.0], \"tickvals\": [0.0, 5.0, 10.0, 15.0, 20.0, 25.0], \"title\": \"time,  ns\\t\\t\\t\\t.\", \"titlefont\": {\"size\": 18}}, \"zaxis\": {\"autorange\": false, \"linewidth\": 1, \"range\": [0, 1], \"tickfont\": {\"size\": 14}, \"title\": \"prob.\\t\\t\\t\\t\\t\\t.\", \"titlefont\": {\"size\": 18}}}, \"showlegend\": false, \"title\": \"\", \"titlefont\": {\"color\": \"#222\", \"family\": \"Lato\", \"size\": 20}, \"xaxis\": {\"tickfont\": {\"size\": 200}, \"ticks\": \"outside\"}, \"yaxis\": {\"tickfont\": {\"size\": 200}, \"ticks\": \"outside\", \"title\": \"y Axis\", \"titlefont\": {\"color\": \"#FFFFFF\", \"family\": \"Courier New, monospace\", \"size\": 40}}}, {\"showLink\": true, \"linkText\": \"Export to plot.ly\", \"plotlyServerURL\": \"https://plot.ly\"})});</script><script type=\"text/javascript\">window.addEventListener(\"resize\", function(){window._Plotly.Plots.resize(document.getElementById(\"d271bc14-846a-408c-8aa2-cf1083204e7d\"));});</script>"
      ],
      "text/vnd.plotly.v1+html": [
       "<div id=\"d271bc14-846a-408c-8aa2-cf1083204e7d\" style=\"height: 525px; width: 100%;\" class=\"plotly-graph-div\"></div><script type=\"text/javascript\">require([\"plotly\"], function(Plotly) { window.PLOTLYENV=window.PLOTLYENV || {};window.PLOTLYENV.BASE_URL=\"https://plot.ly\";Plotly.newPlot(\"d271bc14-846a-408c-8aa2-cf1083204e7d\", [{\"colorscale\": \"Portland\", \"lighting\": {\"diffuse\": 0.5, \"fresnel\": 0.2, \"specular\": 0.2}, \"showlegend\": false, \"showscale\": false, \"z\": [[0.5, 0.0, 0.0, 0.5, 0.0, 0.0, 0.0, 0.0, 0.0, 0.0, 0.0, 0.0], [0.5, 0.0, 0.0, 0.34569, 0.0, 0.06296, 0.06296, 0.0, 0.0284, 0.0, 0.0, 0.0], [0.5, 0.0, 0.0, 0.12317, 0.0, 0.06157000000000001, 0.06157000000000001, 0.0, 0.25368, 0.0, 0.0, 0.0], [0.5, 0.0, 0.0, 0.05558, 0.0, 2.9999999999999997e-05, 2.9999999999999997e-05, 0.0, 0.44436000000000003, 0.0, 0.0, 0.0], [0.5, 0.0, 0.0, 0.12874000000000002, 0.0, 0.06431, 0.06431, 0.0, 0.24264000000000002, 0.0, 0.0, 0.0], [0.5, 0.0, 0.0, 0.35486, 0.0, 0.060160000000000005, 0.060160000000000005, 0.0, 0.02482, 0.0, 0.0, 0.0], [0.5, 0.0, 0.0, 0.49976000000000004, 0.0, 0.00011999999999999999, 0.00011999999999999999, 0.0, 0.0, 0.0, 0.0, 0.0], [0.5, 0.0, 0.0, 0.33643, 0.0, 0.06563, 0.06563, 0.0, 0.0323, 0.0, 0.0, 0.0], [0.5, 0.0, 0.0, 0.11785, 0.0, 0.05872, 0.05872, 0.0, 0.26471, 0.0, 0.0, 0.0], [0.5, 0.0, 0.0, 0.05574, 0.0, 0.00027, 0.00027, 0.0, 0.44371000000000005, 0.0, 0.0, 0.0], [0.5, 0.0, 0.0, 0.13454000000000002, 0.0, 0.06692000000000001, 0.06692000000000001, 0.0, 0.23162, 0.0, 0.0, 0.0], [0.5, 0.0, 0.0, 0.36394, 0.0, 0.05725, 0.05725, 0.0, 0.02156, 0.0, 0.0, 0.0], [0.5, 0.0, 0.0, 0.49901999999999996, 0.0, 0.00049, 0.00049, 0.0, 0.0, 0.0, 0.0, 0.0], [0.5, 0.0, 0.0, 0.32711999999999997, 0.0, 0.06817000000000001, 0.06817000000000001, 0.0, 0.036539999999999996, 0.0, 0.0, 0.0], [0.5, 0.0, 0.0, 0.11277999999999999, 0.0, 0.055760000000000004, 0.055760000000000004, 0.0, 0.2757, 0.0, 0.0, 0.0], [0.5, 0.0, 0.0, 0.056060000000000006, 0.0, 0.0007599999999999999, 0.0007599999999999999, 0.0, 0.44242, 0.0, 0.0, 0.0], [0.5, 0.0, 0.0, 0.14059000000000002, 0.0, 0.06938, 0.06938, 0.0, 0.22065, 0.0, 0.0, 0.0], [0.5, 0.0, 0.0, 0.37289, 0.0, 0.05425, 0.05425, 0.0, 0.018609999999999998, 0.0, 0.0, 0.0], [0.5, 0.0, 0.0, 0.49781000000000003, 0.0, 0.00109, 0.00109, 0.0, 0.0, 0.0, 0.0, 0.0], [0.5, 0.0, 0.0, 0.31778, 0.0, 0.07055, 0.07055, 0.0, 0.04112, 0.0, 0.0, 0.0], [0.5, 0.0, 0.0, 0.10794000000000001, 0.0, 0.05272, 0.05272, 0.0, 0.28661, 0.0, 0.0, 0.0], [0.5, 0.0, 0.0, 0.05655, 0.0, 0.00149, 0.00149, 0.0, 0.44047, 0.0, 0.0, 0.0], [0.5, 0.0, 0.0, 0.14687999999999998, 0.0, 0.07168, 0.07168, 0.0, 0.20976, 0.0, 0.0, 0.0], [0.5, 0.0, 0.0, 0.3817, 0.0, 0.05118, 0.05118, 0.0, 0.01594, 0.0, 0.0, 0.0], [0.5, 0.0, 0.0, 0.49611000000000005, 0.0, 0.0019399999999999999, 0.0019399999999999999, 0.0, 2e-05, 0.0, 0.0, 0.0], [0.5, 0.0, 0.0, 0.30841999999999997, 0.0, 0.07276, 0.07276, 0.0, 0.046060000000000004, 0.0, 0.0, 0.0]], \"type\": \"surface\", \"uid\": \"45cee2e1-f1c8-4a60-8b6c-53169ef82147\"}], {\"autosize\": false, \"margin\": {\"b\": 0, \"l\": 0, \"pad\": 50, \"r\": 0, \"t\": 35}, \"plot_bgcolor\": \"#AAA\", \"scene\": {\"aspectratio\": {\"x\": 1, \"y\": 5.0, \"z\": 1}, \"camera\": {\"center\": {\"x\": 0, \"y\": 0, \"z\": 0.2}, \"eye\": {\"x\": 3.75, \"y\": 3.75, \"z\": 3.75}, \"up\": {\"x\": 0, \"y\": 0, \"z\": 1}}, \"xaxis\": {\"autorange\": true, \"showgrid\": false, \"showline\": false, \"tickfont\": {\"size\": 14}, \"ticktext\": [\"\", \"\", \"\", \"\", \"\", \"\", \"\", \"\", \"\", \"\", \"\", \"\"], \"tickvals\": [0, 1, 2, 3, 4, 5, 6, 7, 8, 9, 10, 11], \"title\": \"states\", \"titlefont\": {\"size\": 18}}, \"yaxis\": {\"autorange\": true, \"linewidth\": 1, \"tickfont\": {\"size\": 14}, \"ticktext\": [0.0, 10.0, 20.0, 30.0, 40.0, 50.0], \"tickvals\": [0.0, 5.0, 10.0, 15.0, 20.0, 25.0], \"title\": \"time,  ns\\t\\t\\t\\t.\", \"titlefont\": {\"size\": 18}}, \"zaxis\": {\"autorange\": false, \"linewidth\": 1, \"range\": [0, 1], \"tickfont\": {\"size\": 14}, \"title\": \"prob.\\t\\t\\t\\t\\t\\t.\", \"titlefont\": {\"size\": 18}}}, \"showlegend\": false, \"title\": \"\", \"titlefont\": {\"color\": \"#222\", \"family\": \"Lato\", \"size\": 20}, \"xaxis\": {\"tickfont\": {\"size\": 200}, \"ticks\": \"outside\"}, \"yaxis\": {\"tickfont\": {\"size\": 200}, \"ticks\": \"outside\", \"title\": \"y Axis\", \"titlefont\": {\"color\": \"#FFFFFF\", \"family\": \"Courier New, monospace\", \"size\": 40}}}, {\"showLink\": true, \"linkText\": \"Export to plot.ly\", \"plotlyServerURL\": \"https://plot.ly\"})});</script><script type=\"text/javascript\">window.addEventListener(\"resize\", function(){window._Plotly.Plots.resize(document.getElementById(\"d271bc14-846a-408c-8aa2-cf1083204e7d\"));});</script>"
      ]
     },
     "metadata": {},
     "output_type": "display_data"
    }
   ],
   "source": [
    "title = \"\"\n",
    "    \n",
    "plot_builder = PlotBuilder()\n",
    "    \n",
    "plot_builder.set_title(title)\n",
    "plot_builder.set_xaxis('states')\n",
    "plot_builder.set_yaxis(\"time, \" + T_str_mark(config.T))\n",
    "plot_builder.set_zrange([0,1])\n",
    "plot_builder.set_yscale(0.1)\n",
    "\n",
    "\n",
    "plot_builder.plot(\n",
    "    z_csv=config.path + \"/\" + \"z.csv\",\n",
    "    x_csv=config.path + \"/\" + \"x.csv\",\n",
    "    y_csv=config.path + \"/\" + \"t.csv\",\n",
    "    path=config.path,\n",
    "    filename=\"Bipartite\",\n",
    ")\n"
   ]
  },
  {
   "cell_type": "code",
   "execution_count": null,
   "metadata": {},
   "outputs": [],
   "source": []
  }
 ],
 "metadata": {
  "kernelspec": {
   "display_name": "Python 3",
   "language": "python",
   "name": "python3"
  },
  "language_info": {
   "codemirror_mode": {
    "name": "ipython",
    "version": 3
   },
   "file_extension": ".py",
   "mimetype": "text/x-python",
   "name": "python",
   "nbconvert_exporter": "python",
   "pygments_lexer": "ipython3",
   "version": "3.6.7"
  }
 },
 "nbformat": 4,
 "nbformat_minor": 2
}
