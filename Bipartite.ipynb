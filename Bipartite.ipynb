{
 "cells": [
  {
   "cell_type": "code",
   "execution_count": 50,
   "metadata": {},
   "outputs": [],
   "source": [
    "# system\n",
    "import sys"
   ]
  },
  {
   "cell_type": "code",
   "execution_count": 51,
   "metadata": {},
   "outputs": [],
   "source": [
    "# Bipartite\n",
    "from PyQuantum.Bipartite.Cavity import *\n",
    "from PyQuantum.Bipartite.Hamiltonian import *\n",
    "\n",
    "from PyQuantum.Bipartite.WaveFunction import *\n",
    "from PyQuantum.Bipartite.DensityMatrix import *\n",
    "\n",
    "from PyQuantum.Bipartite.Evolution import *"
   ]
  },
  {
   "cell_type": "code",
   "execution_count": 52,
   "metadata": {},
   "outputs": [],
   "source": [
    "# Common\n",
    "from PyQuantum.Common.LoadPackage import *\n",
    "from PyQuantum.Common.STR import *\n",
    "\n",
    "from PyQuantum.Common.ext import mkdir\n",
    "from PyQuantum.Common.PyPlot import PyPlot3D\n",
    "from shutil import copyfile\n",
    "from numpy.random import rand"
   ]
  },
  {
   "cell_type": "code",
   "execution_count": 53,
   "metadata": {},
   "outputs": [],
   "source": [
    "import PyQuantum.examples.Bipartite.config as config\n",
    "\n",
    "mkdir(config.path)"
   ]
  },
  {
   "cell_type": "code",
   "execution_count": 48,
   "metadata": {},
   "outputs": [
    {
     "name": "stdout",
     "output_type": "stream",
     "text": [
      "\u001b[1;36;1mCavity:\u001b[1;32;0m\n",
      "\u001b[1;33;1m n: \u001b[1;32;0m5\n",
      "\n",
      "\u001b[1;33;1mwc: \u001b[1;32;0m21.506 GHz\n",
      "\n",
      "\u001b[1;33;1mwa: \u001b[1;32;0m21.506 GHz\n",
      "\n",
      "\u001b[1;33;1m g: \u001b[1;32;0m215.06 MHz\n",
      "\n",
      "T: 5e-08\n",
      "nt: 1000\n",
      "dt: 4.9999999999999995e-11\n"
     ]
    }
   ],
   "source": [
    "cavity = Cavity(n=config.n, wc=config.wc, wa=config.wa, g=config.g)\n",
    "\n",
    "cavity.print()\n",
    "\n",
    "print(\"T:\", config.T)\n",
    "print(\"nt:\", config.nt)\n",
    "print(\"dt:\", config.dt)"
   ]
  },
  {
   "cell_type": "code",
   "execution_count": 54,
   "metadata": {},
   "outputs": [
    {
     "name": "stdout",
     "output_type": "stream",
     "text": [
      "\u001b[1;36;1mHamiltonian states:\u001b[1;32;0m\n",
      "\u001b[1;36;1mStates:\u001b[1;32;0m\n",
      "[0, 0]\n",
      "[0, 1]\n",
      "[0, 2]\n",
      "[0, 3]\n",
      "[0, 4]\n",
      "[0, 5]\n",
      "[1, 0]\n",
      "[1, 1]\n",
      "[1, 2]\n",
      "[1, 3]\n",
      "[1, 4]\n",
      "[1, 5]\n",
      "[2, 0]\n",
      "[2, 1]\n",
      "[2, 2]\n",
      "[2, 3]\n",
      "[2, 4]\n",
      "[2, 5]\n",
      "[3, 0]\n",
      "[3, 1]\n",
      "[3, 2]\n",
      "[3, 3]\n",
      "[3, 4]\n",
      "[3, 5]\n",
      "[4, 0]\n",
      "[4, 1]\n",
      "[4, 2]\n",
      "[4, 3]\n",
      "[4, 4]\n",
      "[4, 5]\n",
      "[5, 0]\n",
      "[5, 1]\n",
      "[5, 2]\n",
      "[5, 3]\n",
      "[5, 4]\n",
      "[5, 5]\n",
      "\n"
     ]
    }
   ],
   "source": [
    "H = Hamiltonian(capacity=config.capacity, cavity=cavity)\n",
    "\n",
    "if __debug__:\n",
    "    print(\"Hamiltonian states:\", color=\"green\")\n",
    "    # H.print()\n",
    "    print()\n",
    "\n",
    "    H.print_states()\n",
    "\n",
    "    H.write_to_file(filename=config.H_csv)\n",
    "    # H.print_html(filename=H_html)"
   ]
  },
  {
   "cell_type": "code",
   "execution_count": 49,
   "metadata": {},
   "outputs": [
    {
     "name": "stdout",
     "output_type": "stream",
     "text": [
      "\u001b[1;36;1mWave Function:\u001b[1;32;0m\n",
      "[0, 0] 0j\n",
      "[0, 1] 0j\n",
      "[0, 2] 0j\n",
      "[0, 3] 0j\n",
      "[0, 4] 0j\n",
      "[0, 5] (1+0j)\n",
      "[1, 0] 0j\n",
      "[1, 1] 0j\n",
      "[1, 2] 0j\n",
      "[1, 3] 0j\n",
      "[1, 4] 0j\n",
      "[1, 5] 0j\n",
      "[2, 0] 0j\n",
      "[2, 1] 0j\n",
      "[2, 2] 0j\n",
      "[2, 3] 0j\n",
      "[2, 4] 0j\n",
      "[2, 5] 0j\n",
      "[3, 0] 0j\n",
      "[3, 1] 0j\n",
      "[3, 2] 0j\n",
      "[3, 3] 0j\n",
      "[3, 4] 0j\n",
      "[3, 5] 0j\n",
      "[4, 0] 0j\n",
      "[4, 1] 0j\n",
      "[4, 2] 0j\n",
      "[4, 3] 0j\n",
      "[4, 4] 0j\n",
      "[4, 5] 0j\n",
      "[5, 0] 0j\n",
      "[5, 1] 0j\n",
      "[5, 2] 0j\n",
      "[5, 3] 0j\n",
      "[5, 4] 0j\n",
      "[5, 5] 0j\n"
     ]
    }
   ],
   "source": [
    "w_0 = WaveFunction(states=H.states, init_state=config.init_state)\n",
    "\n",
    "w_0.normalize()\n",
    "\n",
    "if __debug__:\n",
    "    print(\"Wave Function:\", color=\"green\")\n",
    "\n",
    "    print()\n",
    "\n",
    "    w_0.print()\n"
   ]
  },
  {
   "cell_type": "code",
   "execution_count": 43,
   "metadata": {},
   "outputs": [],
   "source": [
    "run_w(w_0, H, dt=config.dt, nt=config.nt, config=config, fidelity_mode=True)"
   ]
  },
  {
   "cell_type": "code",
   "execution_count": 44,
   "metadata": {},
   "outputs": [
    {
     "name": "stdout",
     "output_type": "stream",
     "text": [
      "Making plot...\n",
      "x_ticktext: ['', '', '', '', '', '{0, 5≻', '', '', '', '', '', '', '', '', '', '', '', '', '', '', '', '', '', '', '', '', '', '', '', '', '{5, 0≻', '', '', '', '', '']\n",
      "x_tickvals: [0, 1, 2, 3, 4, 5, 6, 7, 8, 9, 10, 11, 12, 13, 14, 15, 16, 17, 18, 19, 20, 21, 22, 23, 24, 25, 26, 27, 28, 29, 30, 31, 32, 33, 34, 35]\n",
      "y_ticktext: [0.0, 5.0, 10.0, 15.0, 20.0, 25.0, 30.0, 35.0, 40.0, 45.0, 50.0]\n",
      "y_tickvals: [   0.  100.  200.  300.  400.  500.  600.  700.  800.  900. 1000.]\n"
     ]
    },
    {
     "name": "stderr",
     "output_type": "stream",
     "text": [
      "/usr/local/lib/python3.6/dist-packages/plotly/graph_objs/_deprecations.py:396: DeprecationWarning:\n",
      "\n",
      "plotly.graph_objs.Margin is deprecated.\n",
      "Please replace it with one of the following more specific types\n",
      "  - plotly.graph_objs.layout.Margin\n",
      "\n",
      "\n",
      "/usr/local/lib/python3.6/dist-packages/plotly/graph_objs/_deprecations.py:477: DeprecationWarning:\n",
      "\n",
      "plotly.graph_objs.Scene is deprecated.\n",
      "Please replace it with one of the following more specific types\n",
      "  - plotly.graph_objs.Scene\n",
      "\n",
      "\n"
     ]
    }
   ],
   "source": [
    "y_scale = 1\n",
    "\n",
    "if config.T < 0.25 * config.mks:\n",
    "    y_scale = 0.1\n",
    "elif config.T <= 0.5 * config.mks:\n",
    "    y_scale = 0.025\n",
    "elif config.T == 0.5 * config.mks:\n",
    "    y_scale = 0.01\n",
    "elif config.T == 1 * config.mks:\n",
    "    y_scale = 7.5\n",
    "    # y_scale = 10\n",
    "elif config.T == 5 * config.mks:\n",
    "    y_scale = 1\n",
    "\n",
    "\n",
    "if not __debug__ or __debug__:\n",
    "    title = \"\"\n",
    "    title += \"<b>\"\n",
    "    title += \"n = \" + str(config.n)\n",
    "    if config.capacity - config.n > 0:\n",
    "        title += \"<br>\" + str(config.capacity - config.n) + \\\n",
    "            \" фотонов в полости\"\n",
    "    # else:\n",
    "    # title += \"<br>\" + \"empty cavity\"\n",
    "\n",
    "    # title += \"<br>atoms state: |Ψ<sub>0</sub> i = |11...1>A<sub>0</sub> |00...0>A<sub>1</sub> |vaki<sub>p</sub>\" + \\\n",
    "    #     str(config.init_state)\n",
    "    title += \"<br>\"\n",
    "    title += \"<br>w<sub>c</sub> = \" + wc_str(config.wc)\n",
    "    title += \"<br>w<sub>a</sub> = \" + wa_str(config.wa)\n",
    "    title += \"<br> g/hw<sub>c</sub> = \" + str(config.g/config.wc)\n",
    "    title += \"<br>\"\n",
    "    title += \"<br>\"\n",
    "    title += \"</b>\"\n",
    "\n",
    "    PyPlot3D(\n",
    "        title=title,\n",
    "        z_csv=config.path + \"/\" + \"z.csv\",\n",
    "        x_csv=config.path + \"/\" + \"x.csv\",\n",
    "        y_csv=config.path + \"/\" + \"t.csv\",\n",
    "        # t_coeff=20000 / 1000 * (config.T / 1e-6),\n",
    "        online=False,\n",
    "        path=config.path,\n",
    "        filename=\"Bipartite\",\n",
    "        xaxis=\"states\",\n",
    "        yaxis=\"time, \" + T_str_mark(config.T),\n",
    "        y_scale=y_scale\n",
    "    )"
   ]
  },
  {
   "cell_type": "code",
   "execution_count": null,
   "metadata": {},
   "outputs": [],
   "source": []
  }
 ],
 "metadata": {
  "kernelspec": {
   "display_name": "Python 3",
   "language": "python",
   "name": "python3"
  },
  "language_info": {
   "codemirror_mode": {
    "name": "ipython",
    "version": 3
   },
   "file_extension": ".py",
   "mimetype": "text/x-python",
   "name": "python",
   "nbconvert_exporter": "python",
   "pygments_lexer": "ipython3",
   "version": "3.6.7"
  }
 },
 "nbformat": 4,
 "nbformat_minor": 2
}
