{
 "cells": [
  {
   "cell_type": "code",
   "execution_count": 1,
   "metadata": {},
   "outputs": [],
   "source": [
    "# system\n",
    "import sys"
   ]
  },
  {
   "cell_type": "code",
   "execution_count": 3,
   "metadata": {},
   "outputs": [
    {
     "ename": "ImportError",
     "evalue": "No module named PyQuantum.Bipartite.Cavity",
     "output_type": "error",
     "traceback": [
      "\u001b[0;31m---------------------------------------------------------------------------\u001b[0m",
      "\u001b[0;31mImportError\u001b[0m                               Traceback (most recent call last)",
      "\u001b[0;32m<ipython-input-3-344cb6b4d6bf>\u001b[0m in \u001b[0;36m<module>\u001b[0;34m()\u001b[0m\n\u001b[1;32m      1\u001b[0m \u001b[0;31m# Bipartite\u001b[0m\u001b[0;34m\u001b[0m\u001b[0;34m\u001b[0m\u001b[0m\n\u001b[0;32m----> 2\u001b[0;31m \u001b[0;32mfrom\u001b[0m \u001b[0mPyQuantum\u001b[0m\u001b[0;34m.\u001b[0m\u001b[0mBipartite\u001b[0m\u001b[0;34m.\u001b[0m\u001b[0mCavity\u001b[0m \u001b[0;32mimport\u001b[0m \u001b[0;34m*\u001b[0m\u001b[0;34m\u001b[0m\u001b[0m\n\u001b[0m\u001b[1;32m      3\u001b[0m \u001b[0;32mfrom\u001b[0m \u001b[0mPyQuantum\u001b[0m\u001b[0;34m.\u001b[0m\u001b[0mBipartite\u001b[0m\u001b[0;34m.\u001b[0m\u001b[0mHamiltonian\u001b[0m \u001b[0;32mimport\u001b[0m \u001b[0;34m*\u001b[0m\u001b[0;34m\u001b[0m\u001b[0m\n\u001b[1;32m      4\u001b[0m \u001b[0;34m\u001b[0m\u001b[0m\n\u001b[1;32m      5\u001b[0m \u001b[0;32mfrom\u001b[0m \u001b[0mPyQuantum\u001b[0m\u001b[0;34m.\u001b[0m\u001b[0mBipartite\u001b[0m\u001b[0;34m.\u001b[0m\u001b[0mWaveFunction\u001b[0m \u001b[0;32mimport\u001b[0m \u001b[0;34m*\u001b[0m\u001b[0;34m\u001b[0m\u001b[0m\n",
      "\u001b[0;31mImportError\u001b[0m: No module named PyQuantum.Bipartite.Cavity"
     ]
    }
   ],
   "source": [
    "# Bipartite\n",
    "from PyQuantum.Bipartite.Cavity import *\n",
    "from PyQuantum.Bipartite.Hamiltonian import *\n",
    "\n",
    "from PyQuantum.Bipartite.WaveFunction import *\n",
    "from PyQuantum.Bipartite.DensityMatrix import *\n",
    "\n",
    "from PyQuantum.Bipartite.Evolution import *"
   ]
  },
  {
   "cell_type": "code",
   "execution_count": null,
   "metadata": {},
   "outputs": [],
   "source": [
    "# Common\n",
    "from PyQuantum.Common.LoadPackage import *\n",
    "from PyQuantum.Common.STR import *\n",
    "\n",
    "from PyQuantum.Common.ext import mkdir\n",
    "from PyQuantum.Common.PyPlot import PyPlot3D\n",
    "from shutil import copyfile\n",
    "from numpy.random import rand"
   ]
  },
  {
   "cell_type": "code",
   "execution_count": null,
   "metadata": {},
   "outputs": [],
   "source": [
    "config = load_pkg(\"config\", \"../PyQuantum/Bipartite/config.py\")\n",
    "\n",
    "mkdir(config.path)\n",
    "copyfile(\"../PyQuantum/Bipartite/config.py\", config.path + '/config.py')"
   ]
  },
  {
   "cell_type": "code",
   "execution_count": null,
   "metadata": {},
   "outputs": [],
   "source": [
    "cavity = Cavity(n=config.n, wc=config.wc, wa=config.wa, g=config.g)\n",
    "\n",
    "cavity.print()\n",
    "\n",
    "print(\"T:\", config.T)\n",
    "print(\"nt:\", config.nt)\n",
    "print(\"dt:\", config.dt)"
   ]
  },
  {
   "cell_type": "code",
   "execution_count": null,
   "metadata": {},
   "outputs": [],
   "source": [
    "H = Hamiltonian(capacity=config.capacity, cavity=cavity)\n",
    "\n",
    "if __debug__:\n",
    "    print(\"Hamiltonian states:\", color=\"green\")\n",
    "    # H.print()\n",
    "    print()\n",
    "\n",
    "    H.print_states()\n",
    "\n",
    "    H.write_to_file(filename=config.H_csv)\n",
    "    # H.print_html(filename=H_html)"
   ]
  },
  {
   "cell_type": "code",
   "execution_count": null,
   "metadata": {},
   "outputs": [],
   "source": [
    "w_0 = WaveFunction(states=H.states, init_state=config.init_state)\n",
    "\n",
    "w_0.normalize()\n",
    "w_0.print()\n",
    "\n",
    "if __debug__:\n",
    "    print(\"Wave Function:\", color=\"green\")\n",
    "\n",
    "    print()\n",
    "\n",
    "    w_0.print()"
   ]
  },
  {
   "cell_type": "code",
   "execution_count": null,
   "metadata": {},
   "outputs": [],
   "source": [
    "run_w(w_0, H, dt=config.dt, nt=config.nt, config=config, fidelity_mode=True)"
   ]
  },
  {
   "cell_type": "code",
   "execution_count": null,
   "metadata": {},
   "outputs": [],
   "source": [
    "y_scale = 1\n",
    "\n",
    "if config.T < 0.25 * config.mks:\n",
    "    y_scale = 0.1\n",
    "elif config.T <= 0.5 * config.mks:\n",
    "    y_scale = 0.025\n",
    "elif config.T == 0.5 * config.mks:\n",
    "    y_scale = 0.01\n",
    "elif config.T == 1 * config.mks:\n",
    "    y_scale = 7.5\n",
    "    # y_scale = 10\n",
    "elif config.T == 5 * config.mks:\n",
    "    y_scale = 1\n",
    "\n",
    "\n",
    "if not __debug__ or __debug__:\n",
    "    title = \"\"\n",
    "    title += \"<b>\"\n",
    "    title += \"n = \" + str(config.n)\n",
    "    if config.capacity - config.n > 0:\n",
    "        title += \"<br>\" + str(config.capacity - config.n) + \\\n",
    "            \" фотонов в полости\"\n",
    "    title += \"<br>\"\n",
    "    title += \"<br>w<sub>c</sub> = \" + wc_str(config.wc)\n",
    "    title += \"<br>w<sub>a</sub> = \" + wa_str(config.wa)\n",
    "    title += \"<br> g/hw<sub>c</sub> = \" + str(config.g/config.wc)\n",
    "    title += \"<br>\"\n",
    "    title += \"<br>\"\n",
    "    title += \"</b>\"\n",
    "\n",
    "    PyPlot3D(\n",
    "        title=title,\n",
    "        z_csv=config.path + \"/\" + \"z.csv\",\n",
    "        x_csv=config.path + \"/\" + \"x.csv\",\n",
    "        y_csv=config.path + \"/\" + \"t.csv\",\n",
    "        # t_coeff=20000 / 1000 * (config.T / 1e-6),\n",
    "        online=False,\n",
    "        path=config.path,\n",
    "        filename=\"Bipartite\",\n",
    "        xaxis=\"states\",\n",
    "        yaxis=\"time, \" + T_str_mark(config.T),\n",
    "        y_scale=y_scale\n",
    "    )"
   ]
  }
 ],
 "metadata": {
  "kernelspec": {
   "display_name": "Python 3",
   "language": "python",
   "name": "python3"
  },
  "language_info": {
   "codemirror_mode": {
    "name": "ipython",
    "version": 2
   },
   "file_extension": ".py",
   "mimetype": "text/x-python",
   "name": "python",
   "nbconvert_exporter": "python",
   "pygments_lexer": "ipython2",
   "version": "2.7.15rc1"
  }
 },
 "nbformat": 4,
 "nbformat_minor": 2
}
