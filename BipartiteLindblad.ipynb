{
 "cells": [
  {
   "cell_type": "code",
   "execution_count": 2,
   "metadata": {},
   "outputs": [],
   "source": [
    "# system\n",
    "import sys"
   ]
  },
  {
   "cell_type": "code",
   "execution_count": 3,
   "metadata": {},
   "outputs": [],
   "source": [
    "# BipartiteLindblad\n",
    "from PyQuantum.BipartiteLindblad.Cavity import *\n",
    "from PyQuantum.BipartiteLindblad.Hamiltonian import *\n",
    "\n",
    "from PyQuantum.BipartiteLindblad.WaveFunction import *\n",
    "from PyQuantum.BipartiteLindblad.DensityMatrix import *\n",
    "\n",
    "from PyQuantum.BipartiteLindblad.Evolution import *"
   ]
  },
  {
   "cell_type": "code",
   "execution_count": 4,
   "metadata": {},
   "outputs": [],
   "source": [
    "# Common\n",
    "from PyQuantum.Common.LoadPackage import *\n",
    "from PyQuantum.Common.STR import *\n",
    "\n",
    "from PyQuantum.Common.ext import mkdir\n",
    "from PyQuantum.Common.PyPlot import PyPlot3D\n",
    "from shutil import copyfile\n",
    "from numpy.random import rand"
   ]
  },
  {
   "cell_type": "code",
   "execution_count": 12,
   "metadata": {},
   "outputs": [],
   "source": [
    "import PyQuantum.examples.BipartiteLindblad.config as config\n",
    "\n",
    "mkdir(config.path)"
   ]
  },
  {
   "cell_type": "code",
   "execution_count": 13,
   "metadata": {},
   "outputs": [
    {
     "name": "stdout",
     "output_type": "stream",
     "text": [
      "\u001b[1;36;1mCavity:\u001b[1;32;0m\n",
      "\u001b[1;36;1m n: \u001b[1;32;0m1\n",
      "\n",
      "\u001b[1;36;1mwc: \u001b[1;32;0m21.506 GHz\n",
      "\n",
      "\u001b[1;36;1mwa: \u001b[1;32;0m21.506 GHz\n",
      "\n",
      "\u001b[1;36;1m g: \u001b[1;32;0m215.06 MHz\n",
      "\n",
      "T: 2e-06\n",
      "nt: 10000\n",
      "dt: 1.9999999999999998e-10\n"
     ]
    }
   ],
   "source": [
    "cavity = Cavity(n=config.n, wc=config.wc, wa=config.wa, g=config.g)\n",
    "\n",
    "cavity.print()\n",
    "\n",
    "print(\"T:\", config.T)\n",
    "print(\"nt:\", config.nt)\n",
    "print(\"dt:\", config.dt)"
   ]
  },
  {
   "cell_type": "code",
   "execution_count": 14,
   "metadata": {},
   "outputs": [
    {
     "name": "stdout",
     "output_type": "stream",
     "text": [
      "\u001b[1;36;1mStates:\u001b[1;32;0m\n",
      "[1, 0, 0]\n",
      "[0, 0, 1]\n",
      "[0, 1, 0]\n",
      "[0, 0, 0]\n",
      "\n",
      "\u001b[1;36;1mHamiltonian states:\u001b[1;32;0m\n",
      "\u001b[1;36;1mStates:\u001b[1;32;0m\n",
      "[1, 0, 0]\n",
      "[0, 0, 1]\n",
      "[0, 1, 0]\n",
      "[0, 0, 0]\n",
      "\n"
     ]
    }
   ],
   "source": [
    "H = Hamiltonian(capacity=config.capacity, cavity=cavity)\n",
    "\n",
    "H.print_states()\n",
    "\n",
    "if __debug__:\n",
    "    print(\"Hamiltonian states:\", color=\"green\")\n",
    "    # H.print()\n",
    "    print()\n",
    "\n",
    "    H.print_states()\n",
    "\n",
    "    H.write_to_file(filename=config.H_csv)\n",
    "    # H.print_html(filename=H_html)"
   ]
  },
  {
   "cell_type": "code",
   "execution_count": 15,
   "metadata": {},
   "outputs": [
    {
     "name": "stdout",
     "output_type": "stream",
     "text": [
      "[1, 0, 0] 0j\n",
      "[0, 0, 1] (1+0j)\n",
      "[0, 1, 0] 0j\n",
      "[0, 0, 0] 0j\n"
     ]
    }
   ],
   "source": [
    "w_0 = WaveFunction(states=H.states, init_state=config.init_state)\n",
    "\n",
    "if __debug__:\n",
    "    w_0.print()"
   ]
  },
  {
   "cell_type": "code",
   "execution_count": 17,
   "metadata": {},
   "outputs": [],
   "source": [
    "ro_0 = DensityMatrix(w_0)\n",
    "\n",
    "if __debug__:\n",
    "    ro_0.write_to_file(filename=config.ro_0_csv)"
   ]
  },
  {
   "cell_type": "code",
   "execution_count": null,
   "metadata": {},
   "outputs": [],
   "source": [
    "run(ro_0, H, dt=config.dt, nt=config.nt, l=config.l, config=config, fidelity_mode=True)"
   ]
  },
  {
   "cell_type": "code",
   "execution_count": 19,
   "metadata": {},
   "outputs": [
    {
     "name": "stdout",
     "output_type": "stream",
     "text": [
      "10000\n"
     ]
    }
   ],
   "source": [
    "print(config.nt)"
   ]
  }
 ],
 "metadata": {
  "kernelspec": {
   "display_name": "Python 3",
   "language": "python",
   "name": "python3"
  },
  "language_info": {
   "codemirror_mode": {
    "name": "ipython",
    "version": 3
   },
   "file_extension": ".py",
   "mimetype": "text/x-python",
   "name": "python",
   "nbconvert_exporter": "python",
   "pygments_lexer": "ipython3",
   "version": "3.6.7"
  }
 },
 "nbformat": 4,
 "nbformat_minor": 2
}
